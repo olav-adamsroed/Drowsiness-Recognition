{
 "cells": [
  {
   "cell_type": "code",
   "execution_count": 26,
   "source": [
    "import requests\n",
    "import pandas as pd\n",
    "from bs4 import BeautifulSoup\n",
    "import selenium\n",
    "from selenium import webdriver\n",
    "from selenium.webdriver.common.keys import Keys \n",
    "from selenium.webdriver.common.by import By\n",
    "from selenium.common.exceptions import NoSuchElementException\n",
    "import time\n",
    "import os\n",
    "\n",
    "smiling_folder = 'smiling'\n",
    "if not os.path.isdir(smiling_folder):\n",
    "    os.makedirs(smiling_folder)\n",
    "\n",
    "DRIVER_PATH = '/Documents/ikt213g21h/assignments/projects/faces/webscraper'\n",
    "\n",
    "wd = webdriver.Chrome()\n",
    "wd.get('https://google.com')\n",
    "\n",
    "try: # 2 different popups\n",
    "    frame = wd.find_element_by_xpath('//*[@id=\"cnsw\"]/iframe') #<-locating chrome cookies consent frame \n",
    "    wd.switch_to.frame(frame) \n",
    "    wd.find_element_by_xpath('//*[@id=\"introAgreeButton\"]').click()#<-looking for introAgreeButton button, but seems google has changed its name since and  it only works in old chrome versions.\n",
    "\n",
    "except NoSuchElementException:\n",
    "    wd.find_element_by_xpath('//*[@id=\"L2AGLb\"]').click() #<- pay attention to new id.\n",
    "\n",
    "\n",
    "\n",
    "q = wd.find_element(By.NAME, 'q')\n",
    "q.send_keys('smiling person')\n",
    "q.submit()\n",
    "\n",
    "wd.find_element_by_css_selector('#hdtb-msb > div:nth-child(1) > div > div:nth-child(2) > a').click()\n",
    "\n",
    "len_containers = len(containers)\n",
    "\n",
    "for element in range(1, len_containers + 1):\n",
    "    if element != int:\n",
    "        continue\n",
    "\n",
    "\n",
    "# Image selector\n",
    "# #islrg > div.islrc > div:nth-child(1)\n",
    "# We are now in the image seatch page on google\n",
    "# Now we want to loop through every element and access the original image\n",
    "\n",
    " \n",
    "# islrg > div.islrc > div.isv-r.PNCib.iPukc.J3Tg1d\n",
    "# #islrg > div.islrc > div:nth-child(24)\n",
    "def image_downloader(url, smiling_folder, num):\n",
    "\n",
    "    response = requests.get(url)\n",
    "    if response.status_code == 200:\n",
    "        with open(os.path.join(smiling_folder, str(num)+'.jpg'), 'wb') as file:\n",
    "            file.write(response.content)\n",
    "    pass"
   ],
   "outputs": [],
   "metadata": {}
  }
 ],
 "metadata": {
  "orig_nbformat": 4,
  "language_info": {
   "name": "python",
   "version": "3.8.8",
   "mimetype": "text/x-python",
   "codemirror_mode": {
    "name": "ipython",
    "version": 3
   },
   "pygments_lexer": "ipython3",
   "nbconvert_exporter": "python",
   "file_extension": ".py"
  },
  "kernelspec": {
   "name": "python3",
   "display_name": "Python 3.8.8 64-bit ('base': conda)"
  },
  "interpreter": {
   "hash": "481c1101b8edcf9ce6f221540e1c84152d177bcc4d7f7794f96094618821faef"
  }
 },
 "nbformat": 4,
 "nbformat_minor": 2
}